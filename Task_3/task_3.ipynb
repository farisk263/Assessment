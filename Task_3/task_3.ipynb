{
 "cells": [
  {
   "cell_type": "markdown",
   "metadata": {},
   "source": [
    "### A) What is the probability of the word “data” occurring in each line ?"
   ]
  },
  {
   "cell_type": "code",
   "execution_count": 1,
   "metadata": {},
   "outputs": [],
   "source": [
    "import re\n",
    "import string"
   ]
  },
  {
   "cell_type": "code",
   "execution_count": 2,
   "metadata": {},
   "outputs": [
    {
     "data": {
      "text/plain": [
       "['As a term, data analytics predominantly refers to an assortment of applications, from basic business\\n',\n",
       " 'intelligence (BI), reporting and online analytical processing (OLAP) to various forms of advanced\\n',\n",
       " \"analytics. In that sense, it's similar in nature to business analytics, another umbrella term for\\n\",\n",
       " 'approaches to analyzing data -- with the difference that the latter is oriented to business uses, while\\n',\n",
       " \"data analytics has a broader focus. The expansive view of the term isn't universal, though: In some\\n\",\n",
       " 'cases, people use data analytics specifically to mean advanced analytics, treating BI as a separate\\n',\n",
       " 'category. Data analytics initiatives can help businesses increase revenues, improve operational\\n',\n",
       " 'efficiency, optimize marketing campaigns and customer service efforts, respond more quickly to\\n',\n",
       " 'emerging market trends and gain a competitive edge over rivals -- all with the ultimate goal of\\n',\n",
       " \"boosting business performance. Depending on the particular application, the data that's analyzed\\n\",\n",
       " 'can consist of either historical records or new information that has been processed for real-time\\n',\n",
       " 'analytics uses. In addition, it can come from a mix of internal systems and external data sources. At\\n',\n",
       " 'a high level, data analytics methodologies include exploratory data analysis (EDA), which aims to find\\n',\n",
       " 'patterns and relationships in data, and confirmatory data analysis (CDA), which applies statistical\\n',\n",
       " 'techniques to determine whether hypotheses about a data set are true or false. EDA is often\\n',\n",
       " 'compared to detective work, while CDA is akin to the work of a judge or jury during a court trial -- a\\n',\n",
       " 'distinction first drawn by statistician John W. Tukey in his 1977 book Exploratory Data Analysis. Data\\n',\n",
       " 'analytics can also be separated into quantitative data analysis and qualitative data analysis. The\\n',\n",
       " 'former involves analysis of numerical data with quantifiable variables that can be compared or\\n',\n",
       " 'measured statistically. The qualitative approach is more interpretive -- it focuses on understanding\\n',\n",
       " 'the content of non-numerical data like text, images, audio and video, including common phrases,\\n',\n",
       " 'themes and points of view.']"
      ]
     },
     "execution_count": 2,
     "metadata": {},
     "output_type": "execute_result"
    }
   ],
   "source": [
    "with open(\"text.txt\") as f:\n",
    "    text = f.readlines()\n",
    "\n",
    "text "
   ]
  },
  {
   "cell_type": "code",
   "execution_count": 3,
   "metadata": {},
   "outputs": [],
   "source": [
    "processed_strings = []\n",
    "\n",
    "for i in range(len(text)):\n",
    "    new_string = text[i].translate(str.maketrans('', '', string.punctuation))\n",
    "    new_string = new_string.replace('  ', ' ')\n",
    "    new_string = new_string.replace('\\n', '')\n",
    "    new_string = new_string.lower()\n",
    "\n",
    "    processed_strings.append(new_string)\n",
    "\n"
   ]
  },
  {
   "cell_type": "code",
   "execution_count": 4,
   "metadata": {},
   "outputs": [
    {
     "data": {
      "text/plain": [
       "['as a term data analytics predominantly refers to an assortment of applications from basic business',\n",
       " 'intelligence bi reporting and online analytical processing olap to various forms of advanced',\n",
       " 'analytics in that sense its similar in nature to business analytics another umbrella term for',\n",
       " 'approaches to analyzing data with the difference that the latter is oriented to business uses while',\n",
       " 'data analytics has a broader focus the expansive view of the term isnt universal though in some',\n",
       " 'cases people use data analytics specifically to mean advanced analytics treating bi as a separate',\n",
       " 'category data analytics initiatives can help businesses increase revenues improve operational',\n",
       " 'efficiency optimize marketing campaigns and customer service efforts respond more quickly to',\n",
       " 'emerging market trends and gain a competitive edge over rivals all with the ultimate goal of',\n",
       " 'boosting business performance depending on the particular application the data thats analyzed',\n",
       " 'can consist of either historical records or new information that has been processed for realtime',\n",
       " 'analytics uses in addition it can come from a mix of internal systems and external data sources at',\n",
       " 'a high level data analytics methodologies include exploratory data analysis eda which aims to find',\n",
       " 'patterns and relationships in data and confirmatory data analysis cda which applies statistical',\n",
       " 'techniques to determine whether hypotheses about a data set are true or false eda is often',\n",
       " 'compared to detective work while cda is akin to the work of a judge or jury during a court trial a',\n",
       " 'distinction first drawn by statistician john w tukey in his 1977 book exploratory data analysis data',\n",
       " 'analytics can also be separated into quantitative data analysis and qualitative data analysis the',\n",
       " 'former involves analysis of numerical data with quantifiable variables that can be compared or',\n",
       " 'measured statistically the qualitative approach is more interpretive it focuses on understanding',\n",
       " 'the content of nonnumerical data like text images audio and video including common phrases',\n",
       " 'themes and points of view']"
      ]
     },
     "execution_count": 4,
     "metadata": {},
     "output_type": "execute_result"
    }
   ],
   "source": [
    "processed_strings"
   ]
  },
  {
   "cell_type": "code",
   "execution_count": 5,
   "metadata": {},
   "outputs": [],
   "source": [
    "data = {}\n",
    "for i in range(len(processed_strings)):\n",
    "    data[i] = 0\n",
    "\n",
    "for i in range(len(processed_strings)):\n",
    "    for a in processed_strings[i].split(' '):\n",
    "        if a == \"data\":\n",
    "            data[i] += 1\n",
    "    \n"
   ]
  },
  {
   "cell_type": "code",
   "execution_count": 6,
   "metadata": {},
   "outputs": [
    {
     "data": {
      "text/plain": [
       "{0: 1,\n",
       " 1: 0,\n",
       " 2: 0,\n",
       " 3: 1,\n",
       " 4: 1,\n",
       " 5: 1,\n",
       " 6: 1,\n",
       " 7: 0,\n",
       " 8: 0,\n",
       " 9: 1,\n",
       " 10: 0,\n",
       " 11: 1,\n",
       " 12: 2,\n",
       " 13: 2,\n",
       " 14: 1,\n",
       " 15: 0,\n",
       " 16: 2,\n",
       " 17: 2,\n",
       " 18: 1,\n",
       " 19: 0,\n",
       " 20: 1,\n",
       " 21: 0}"
      ]
     },
     "execution_count": 6,
     "metadata": {},
     "output_type": "execute_result"
    }
   ],
   "source": [
    "data"
   ]
  },
  {
   "cell_type": "code",
   "execution_count": null,
   "metadata": {},
   "outputs": [],
   "source": []
  }
 ],
 "metadata": {
  "kernelspec": {
   "display_name": "Python 3.9.5 ('base')",
   "language": "python",
   "name": "python3"
  },
  "language_info": {
   "codemirror_mode": {
    "name": "ipython",
    "version": 3
   },
   "file_extension": ".py",
   "mimetype": "text/x-python",
   "name": "python",
   "nbconvert_exporter": "python",
   "pygments_lexer": "ipython3",
   "version": "3.9.5"
  },
  "orig_nbformat": 4,
  "vscode": {
   "interpreter": {
    "hash": "aa2e2930b61a44ec9f82ac98a9255cbee0018fffd8a0e1ec63bcd7b4b2001b3a"
   }
  }
 },
 "nbformat": 4,
 "nbformat_minor": 2
}
