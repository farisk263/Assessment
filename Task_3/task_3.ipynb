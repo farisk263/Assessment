{
 "cells": [
  {
   "cell_type": "markdown",
   "metadata": {},
   "source": [
    "### A) What is the probability of the word “data” occurring in each line ?"
   ]
  },
  {
   "cell_type": "code",
   "execution_count": 1,
   "metadata": {},
   "outputs": [],
   "source": [
    "import re\n",
    "import string\n",
    "import numpy as np"
   ]
  },
  {
   "cell_type": "code",
   "execution_count": 2,
   "metadata": {},
   "outputs": [
    {
     "data": {
      "text/plain": [
       "['As a term, data analytics predominantly refers to an assortment of applications, from basic business\\n',\n",
       " 'intelligence (BI), reporting and online analytical processing (OLAP) to various forms of advanced\\n',\n",
       " \"analytics. In that sense, it's similar in nature to business analytics, another umbrella term for\\n\",\n",
       " 'approaches to analyzing data -- with the difference that the latter is oriented to business uses, while\\n',\n",
       " \"data analytics has a broader focus. The expansive view of the term isn't universal, though: In some\\n\",\n",
       " 'cases, people use data analytics specifically to mean advanced analytics, treating BI as a separate\\n',\n",
       " 'category. Data analytics initiatives can help businesses increase revenues, improve operational\\n',\n",
       " 'efficiency, optimize marketing campaigns and customer service efforts, respond more quickly to\\n',\n",
       " 'emerging market trends and gain a competitive edge over rivals -- all with the ultimate goal of\\n',\n",
       " \"boosting business performance. Depending on the particular application, the data that's analyzed\\n\",\n",
       " 'can consist of either historical records or new information that has been processed for real-time\\n',\n",
       " 'analytics uses. In addition, it can come from a mix of internal systems and external data sources. At\\n',\n",
       " 'a high level, data analytics methodologies include exploratory data analysis (EDA), which aims to find\\n',\n",
       " 'patterns and relationships in data, and confirmatory data analysis (CDA), which applies statistical\\n',\n",
       " 'techniques to determine whether hypotheses about a data set are true or false. EDA is often\\n',\n",
       " 'compared to detective work, while CDA is akin to the work of a judge or jury during a court trial -- a\\n',\n",
       " 'distinction first drawn by statistician John W. Tukey in his 1977 book Exploratory Data Analysis. Data\\n',\n",
       " 'analytics can also be separated into quantitative data analysis and qualitative data analysis. The\\n',\n",
       " 'former involves analysis of numerical data with quantifiable variables that can be compared or\\n',\n",
       " 'measured statistically. The qualitative approach is more interpretive -- it focuses on understanding\\n',\n",
       " 'the content of non-numerical data like text, images, audio and video, including common phrases,\\n',\n",
       " 'themes and points of view.']"
      ]
     },
     "execution_count": 2,
     "metadata": {},
     "output_type": "execute_result"
    }
   ],
   "source": [
    "with open(\"text.txt\") as f:\n",
    "    text = f.readlines()\n",
    "\n",
    "text "
   ]
  },
  {
   "cell_type": "code",
   "execution_count": 3,
   "metadata": {},
   "outputs": [],
   "source": [
    "processed_strings = []\n",
    "\n",
    "for i in range(len(text)):\n",
    "    new_string = text[i].translate(str.maketrans('', '', string.punctuation))\n",
    "    new_string = new_string.replace('  ', ' ')\n",
    "    new_string = new_string.replace('\\n', '')\n",
    "    new_string = new_string.lower()\n",
    "\n",
    "    processed_strings.append(new_string)\n",
    "\n"
   ]
  },
  {
   "cell_type": "code",
   "execution_count": 4,
   "metadata": {},
   "outputs": [
    {
     "data": {
      "text/plain": [
       "['as a term data analytics predominantly refers to an assortment of applications from basic business',\n",
       " 'intelligence bi reporting and online analytical processing olap to various forms of advanced',\n",
       " 'analytics in that sense its similar in nature to business analytics another umbrella term for',\n",
       " 'approaches to analyzing data with the difference that the latter is oriented to business uses while',\n",
       " 'data analytics has a broader focus the expansive view of the term isnt universal though in some',\n",
       " 'cases people use data analytics specifically to mean advanced analytics treating bi as a separate',\n",
       " 'category data analytics initiatives can help businesses increase revenues improve operational',\n",
       " 'efficiency optimize marketing campaigns and customer service efforts respond more quickly to',\n",
       " 'emerging market trends and gain a competitive edge over rivals all with the ultimate goal of',\n",
       " 'boosting business performance depending on the particular application the data thats analyzed',\n",
       " 'can consist of either historical records or new information that has been processed for realtime',\n",
       " 'analytics uses in addition it can come from a mix of internal systems and external data sources at',\n",
       " 'a high level data analytics methodologies include exploratory data analysis eda which aims to find',\n",
       " 'patterns and relationships in data and confirmatory data analysis cda which applies statistical',\n",
       " 'techniques to determine whether hypotheses about a data set are true or false eda is often',\n",
       " 'compared to detective work while cda is akin to the work of a judge or jury during a court trial a',\n",
       " 'distinction first drawn by statistician john w tukey in his 1977 book exploratory data analysis data',\n",
       " 'analytics can also be separated into quantitative data analysis and qualitative data analysis the',\n",
       " 'former involves analysis of numerical data with quantifiable variables that can be compared or',\n",
       " 'measured statistically the qualitative approach is more interpretive it focuses on understanding',\n",
       " 'the content of nonnumerical data like text images audio and video including common phrases',\n",
       " 'themes and points of view']"
      ]
     },
     "execution_count": 4,
     "metadata": {},
     "output_type": "execute_result"
    }
   ],
   "source": [
    "processed_strings"
   ]
  },
  {
   "cell_type": "code",
   "execution_count": 5,
   "metadata": {},
   "outputs": [],
   "source": [
    "data = {}\n",
    "for i in range(len(processed_strings)):\n",
    "    data[i] = 0\n",
    "\n",
    "probability = {}\n",
    "for i in range(len(processed_strings)):\n",
    "    probability[i] = 1\n",
    "\n",
    "for i in range(len(processed_strings)):\n",
    "    for a in processed_strings[i].split(' '):\n",
    "        if a == \"data\":\n",
    "            data[i] += 1\n",
    "        \n",
    "    probability[i] = probability[i] * (data[i] / len(processed_strings[i].split(' ')))\n",
    "    \n"
   ]
  },
  {
   "cell_type": "code",
   "execution_count": 6,
   "metadata": {},
   "outputs": [
    {
     "data": {
      "text/plain": [
       "{0: 1,\n",
       " 1: 0,\n",
       " 2: 0,\n",
       " 3: 1,\n",
       " 4: 1,\n",
       " 5: 1,\n",
       " 6: 1,\n",
       " 7: 0,\n",
       " 8: 0,\n",
       " 9: 1,\n",
       " 10: 0,\n",
       " 11: 1,\n",
       " 12: 2,\n",
       " 13: 2,\n",
       " 14: 1,\n",
       " 15: 0,\n",
       " 16: 2,\n",
       " 17: 2,\n",
       " 18: 1,\n",
       " 19: 0,\n",
       " 20: 1,\n",
       " 21: 0}"
      ]
     },
     "execution_count": 6,
     "metadata": {},
     "output_type": "execute_result"
    }
   ],
   "source": [
    "data"
   ]
  },
  {
   "cell_type": "code",
   "execution_count": 7,
   "metadata": {},
   "outputs": [
    {
     "data": {
      "text/plain": [
       "{0: 0.06666666666666667,\n",
       " 1: 0.0,\n",
       " 2: 0.0,\n",
       " 3: 0.0625,\n",
       " 4: 0.058823529411764705,\n",
       " 5: 0.06666666666666667,\n",
       " 6: 0.09090909090909091,\n",
       " 7: 0.0,\n",
       " 8: 0.0,\n",
       " 9: 0.08333333333333333,\n",
       " 10: 0.0,\n",
       " 11: 0.05555555555555555,\n",
       " 12: 0.13333333333333333,\n",
       " 13: 0.15384615384615385,\n",
       " 14: 0.0625,\n",
       " 15: 0.0,\n",
       " 16: 0.125,\n",
       " 17: 0.14285714285714285,\n",
       " 18: 0.07142857142857142,\n",
       " 19: 0.0,\n",
       " 20: 0.07142857142857142,\n",
       " 21: 0.0}"
      ]
     },
     "execution_count": 7,
     "metadata": {},
     "output_type": "execute_result"
    }
   ],
   "source": [
    "probability"
   ]
  },
  {
   "cell_type": "code",
   "execution_count": 8,
   "metadata": {},
   "outputs": [
    {
     "name": "stdout",
     "output_type": "stream",
     "text": [
      "Probability of word data in line number 1 is 0.06667\n",
      "Probability of word data in line number 2 is 0.0\n",
      "Probability of word data in line number 3 is 0.0\n",
      "Probability of word data in line number 4 is 0.0625\n",
      "Probability of word data in line number 5 is 0.05882\n",
      "Probability of word data in line number 6 is 0.06667\n",
      "Probability of word data in line number 7 is 0.09091\n",
      "Probability of word data in line number 8 is 0.0\n",
      "Probability of word data in line number 9 is 0.0\n",
      "Probability of word data in line number 10 is 0.08333\n",
      "Probability of word data in line number 11 is 0.0\n",
      "Probability of word data in line number 12 is 0.05556\n",
      "Probability of word data in line number 13 is 0.13333\n",
      "Probability of word data in line number 14 is 0.15385\n",
      "Probability of word data in line number 15 is 0.0625\n",
      "Probability of word data in line number 16 is 0.0\n",
      "Probability of word data in line number 17 is 0.125\n",
      "Probability of word data in line number 18 is 0.14286\n",
      "Probability of word data in line number 19 is 0.07143\n",
      "Probability of word data in line number 20 is 0.0\n",
      "Probability of word data in line number 21 is 0.07143\n",
      "Probability of word data in line number 22 is 0.0\n"
     ]
    }
   ],
   "source": [
    "for i in range(len(probability)):\n",
    "    print(\"Probability of word data in line number \" + str(i+1) + \" is \" + str(round(probability[i], 5)))"
   ]
  },
  {
   "cell_type": "markdown",
   "metadata": {},
   "source": [
    "### B) What is the distribution of distinct word counts across all the lines ?"
   ]
  },
  {
   "cell_type": "code",
   "execution_count": 9,
   "metadata": {},
   "outputs": [],
   "source": [
    "z = []\n",
    "\n",
    "for i in range(len(processed_strings)):\n",
    "    z.extend(processed_strings[i].split(' '))\n"
   ]
  },
  {
   "cell_type": "code",
   "execution_count": 10,
   "metadata": {},
   "outputs": [
    {
     "name": "stdout",
     "output_type": "stream",
     "text": [
      "Counter({'data': 18, 'to': 11, 'the': 11, 'a': 10, 'analytics': 10, 'of': 10, 'and': 9, 'in': 6, 'analysis': 6, 'can': 5, 'business': 4, 'that': 4, 'is': 4, 'or': 4, 'term': 3, 'with': 3, 'as': 2, 'from': 2, 'bi': 2, 'advanced': 2, 'for': 2, 'uses': 2, 'while': 2, 'has': 2, 'view': 2, 'more': 2, 'on': 2, 'it': 2, 'exploratory': 2, 'eda': 2, 'which': 2, 'cda': 2, 'compared': 2, 'work': 2, 'be': 2, 'qualitative': 2, 'predominantly': 1, 'refers': 1, 'an': 1, 'assortment': 1, 'applications': 1, 'basic': 1, 'intelligence': 1, 'reporting': 1, 'online': 1, 'analytical': 1, 'processing': 1, 'olap': 1, 'various': 1, 'forms': 1, 'sense': 1, 'its': 1, 'similar': 1, 'nature': 1, 'another': 1, 'umbrella': 1, 'approaches': 1, 'analyzing': 1, 'difference': 1, 'latter': 1, 'oriented': 1, 'broader': 1, 'focus': 1, 'expansive': 1, 'isnt': 1, 'universal': 1, 'though': 1, 'some': 1, 'cases': 1, 'people': 1, 'use': 1, 'specifically': 1, 'mean': 1, 'treating': 1, 'separate': 1, 'category': 1, 'initiatives': 1, 'help': 1, 'businesses': 1, 'increase': 1, 'revenues': 1, 'improve': 1, 'operational': 1, 'efficiency': 1, 'optimize': 1, 'marketing': 1, 'campaigns': 1, 'customer': 1, 'service': 1, 'efforts': 1, 'respond': 1, 'quickly': 1, 'emerging': 1, 'market': 1, 'trends': 1, 'gain': 1, 'competitive': 1, 'edge': 1, 'over': 1, 'rivals': 1, 'all': 1, 'ultimate': 1, 'goal': 1, 'boosting': 1, 'performance': 1, 'depending': 1, 'particular': 1, 'application': 1, 'thats': 1, 'analyzed': 1, 'consist': 1, 'either': 1, 'historical': 1, 'records': 1, 'new': 1, 'information': 1, 'been': 1, 'processed': 1, 'realtime': 1, 'addition': 1, 'come': 1, 'mix': 1, 'internal': 1, 'systems': 1, 'external': 1, 'sources': 1, 'at': 1, 'high': 1, 'level': 1, 'methodologies': 1, 'include': 1, 'aims': 1, 'find': 1, 'patterns': 1, 'relationships': 1, 'confirmatory': 1, 'applies': 1, 'statistical': 1, 'techniques': 1, 'determine': 1, 'whether': 1, 'hypotheses': 1, 'about': 1, 'set': 1, 'are': 1, 'true': 1, 'false': 1, 'often': 1, 'detective': 1, 'akin': 1, 'judge': 1, 'jury': 1, 'during': 1, 'court': 1, 'trial': 1, 'distinction': 1, 'first': 1, 'drawn': 1, 'by': 1, 'statistician': 1, 'john': 1, 'w': 1, 'tukey': 1, 'his': 1, '1977': 1, 'book': 1, 'also': 1, 'separated': 1, 'into': 1, 'quantitative': 1, 'former': 1, 'involves': 1, 'numerical': 1, 'quantifiable': 1, 'variables': 1, 'measured': 1, 'statistically': 1, 'approach': 1, 'interpretive': 1, 'focuses': 1, 'understanding': 1, 'content': 1, 'nonnumerical': 1, 'like': 1, 'text': 1, 'images': 1, 'audio': 1, 'video': 1, 'including': 1, 'common': 1, 'phrases': 1, 'themes': 1, 'points': 1})\n"
     ]
    }
   ],
   "source": [
    "from collections import Counter\n",
    "\n",
    "counts = Counter(z)\n",
    "print(counts)"
   ]
  }
 ],
 "metadata": {
  "kernelspec": {
   "display_name": "Python 3.9.5 ('base')",
   "language": "python",
   "name": "python3"
  },
  "language_info": {
   "codemirror_mode": {
    "name": "ipython",
    "version": 3
   },
   "file_extension": ".py",
   "mimetype": "text/x-python",
   "name": "python",
   "nbconvert_exporter": "python",
   "pygments_lexer": "ipython3",
   "version": "3.9.5"
  },
  "orig_nbformat": 4,
  "vscode": {
   "interpreter": {
    "hash": "aa2e2930b61a44ec9f82ac98a9255cbee0018fffd8a0e1ec63bcd7b4b2001b3a"
   }
  }
 },
 "nbformat": 4,
 "nbformat_minor": 2
}
